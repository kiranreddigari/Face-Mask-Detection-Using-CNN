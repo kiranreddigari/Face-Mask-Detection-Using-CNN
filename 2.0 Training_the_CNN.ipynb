{
 "cells": [
  {
   "cell_type": "code",
   "execution_count": 1,
   "metadata": {
    "colab": {
     "base_uri": "https://localhost:8080/"
    },
    "id": "FPY43B_PynA2",
    "outputId": "3ea9a455-2093-415a-8215-3a612b502001"
   },
   "outputs": [
    {
     "name": "stdout",
     "output_type": "stream",
     "text": [
      "Mounted at /content/drive\n"
     ]
    }
   ],
   "source": [
    "from google.colab import drive\n",
    "drive.mount('/content/drive')"
   ]
  },
  {
   "cell_type": "code",
   "execution_count": 6,
   "metadata": {
    "id": "KbS544RQwfAq"
   },
   "outputs": [],
   "source": [
    "import numpy as np\n",
    "\n",
    "data=np.load('/content/drive/MyDrive/data1.npy')\n",
    "target=np.load('/content/drive/MyDrive/target1.npy')\n",
    "\n",
    "#loading the save numpy arrays in the previous code"
   ]
  },
  {
   "cell_type": "code",
   "execution_count": 7,
   "metadata": {
    "colab": {
     "base_uri": "https://localhost:8080/"
    },
    "id": "J5-9PTqQwfAu",
    "outputId": "706f88cf-0c9a-4589-965a-c3e0af97c038"
   },
   "outputs": [
    {
     "name": "stdout",
     "output_type": "stream",
     "text": [
      "Model: \"sequential_1\"\n",
      "_________________________________________________________________\n",
      "Layer (type)                 Output Shape              Param #   \n",
      "=================================================================\n",
      "conv2d_2 (Conv2D)            (None, 98, 98, 200)       2000      \n",
      "_________________________________________________________________\n",
      "activation_2 (Activation)    (None, 98, 98, 200)       0         \n",
      "_________________________________________________________________\n",
      "max_pooling2d_2 (MaxPooling2 (None, 49, 49, 200)       0         \n",
      "_________________________________________________________________\n",
      "conv2d_3 (Conv2D)            (None, 47, 47, 100)       180100    \n",
      "_________________________________________________________________\n",
      "activation_3 (Activation)    (None, 47, 47, 100)       0         \n",
      "_________________________________________________________________\n",
      "max_pooling2d_3 (MaxPooling2 (None, 23, 23, 100)       0         \n",
      "_________________________________________________________________\n",
      "flatten_1 (Flatten)          (None, 52900)             0         \n",
      "_________________________________________________________________\n",
      "dropout_1 (Dropout)          (None, 52900)             0         \n",
      "_________________________________________________________________\n",
      "dense_2 (Dense)              (None, 50)                2645050   \n",
      "_________________________________________________________________\n",
      "dense_3 (Dense)              (None, 2)                 102       \n",
      "=================================================================\n",
      "Total params: 2,827,252\n",
      "Trainable params: 2,827,252\n",
      "Non-trainable params: 0\n",
      "_________________________________________________________________\n"
     ]
    }
   ],
   "source": [
    "from keras.models import Sequential\n",
    "from keras.layers import Dense,Activation,Flatten,Dropout\n",
    "from keras.layers import Conv2D,MaxPooling2D\n",
    "from keras.callbacks import ModelCheckpoint\n",
    "\n",
    "model=Sequential()\n",
    "\n",
    "model.add(Conv2D(200,(3,3),input_shape=data.shape[1:]))\n",
    "model.add(Activation('relu'))\n",
    "model.add(MaxPooling2D(pool_size=(2,2)))\n",
    "#The first CNN layer followed by Relu and MaxPooling layers\n",
    "\n",
    "model.add(Conv2D(100,(3,3)))\n",
    "model.add(Activation('relu'))\n",
    "model.add(MaxPooling2D(pool_size=(2,2)))\n",
    "#The second convolution layer followed by Relu and MaxPooling layers\n",
    "\n",
    "model.add(Flatten())\n",
    "model.add(Dropout(0.5))\n",
    "#Flatten layer to stack the output convolutions from second convolution layer\n",
    "model.add(Dense(50,activation='relu'))\n",
    "#Dense layer of 64 neurons\n",
    "model.add(Dense(2,activation='softmax'))\n",
    "#The Final layer with two outputs for two categories\n",
    "\n",
    "model.compile(loss='categorical_crossentropy',optimizer='adam',metrics=['accuracy'])\n",
    "model.summary()"
   ]
  },
  {
   "cell_type": "code",
   "execution_count": 8,
   "metadata": {
    "id": "HTrY_C6mwfAx"
   },
   "outputs": [],
   "source": [
    "from sklearn.model_selection import train_test_split\n",
    "\n",
    "train_data,test_data,train_target,test_target=train_test_split(data,target,test_size=0.1)"
   ]
  },
  {
   "cell_type": "code",
   "execution_count": 9,
   "metadata": {
    "colab": {
     "base_uri": "https://localhost:8080/"
    },
    "id": "B95WNAHWwfA0",
    "outputId": "f470564e-b07e-4729-e120-e796910b66f4"
   },
   "outputs": [
    {
     "name": "stdout",
     "output_type": "stream",
     "text": [
      "Epoch 1/20\n",
      "31/31 [==============================] - ETA: 0s - loss: 0.6957 - accuracy: 0.5596WARNING:tensorflow:From /usr/local/lib/python3.6/dist-packages/tensorflow/python/training/tracking/tracking.py:111: Model.state_updates (from tensorflow.python.keras.engine.training) is deprecated and will be removed in a future version.\n",
      "Instructions for updating:\n",
      "This property should not be used in TensorFlow 2.0, as updates are applied automatically.\n",
      "WARNING:tensorflow:From /usr/local/lib/python3.6/dist-packages/tensorflow/python/training/tracking/tracking.py:111: Layer.updates (from tensorflow.python.keras.engine.base_layer) is deprecated and will be removed in a future version.\n",
      "Instructions for updating:\n",
      "This property should not be used in TensorFlow 2.0, as updates are applied automatically.\n",
      "INFO:tensorflow:Assets written to: model-001.model/assets\n",
      "31/31 [==============================] - 2s 79ms/step - loss: 0.6957 - accuracy: 0.5596 - val_loss: 0.6070 - val_accuracy: 0.6694\n",
      "Epoch 2/20\n",
      "31/31 [==============================] - ETA: 0s - loss: 0.5511 - accuracy: 0.7101INFO:tensorflow:Assets written to: model-002.model/assets\n",
      "31/31 [==============================] - 2s 65ms/step - loss: 0.5511 - accuracy: 0.7101 - val_loss: 0.4817 - val_accuracy: 0.7460\n",
      "Epoch 3/20\n",
      "31/31 [==============================] - ETA: 0s - loss: 0.3420 - accuracy: 0.8495INFO:tensorflow:Assets written to: model-003.model/assets\n",
      "31/31 [==============================] - 2s 62ms/step - loss: 0.3420 - accuracy: 0.8495 - val_loss: 0.3611 - val_accuracy: 0.8508\n",
      "Epoch 4/20\n",
      "31/31 [==============================] - ETA: 0s - loss: 0.2453 - accuracy: 0.8960INFO:tensorflow:Assets written to: model-004.model/assets\n",
      "31/31 [==============================] - 2s 63ms/step - loss: 0.2453 - accuracy: 0.8960 - val_loss: 0.3030 - val_accuracy: 0.8911\n",
      "Epoch 5/20\n",
      "31/31 [==============================] - ETA: 0s - loss: 0.1653 - accuracy: 0.9343INFO:tensorflow:Assets written to: model-005.model/assets\n",
      "31/31 [==============================] - 2s 62ms/step - loss: 0.1653 - accuracy: 0.9343 - val_loss: 0.2384 - val_accuracy: 0.9073\n",
      "Epoch 6/20\n",
      "31/31 [==============================] - ETA: 0s - loss: 0.1028 - accuracy: 0.9667INFO:tensorflow:Assets written to: model-006.model/assets\n",
      "31/31 [==============================] - 2s 67ms/step - loss: 0.1028 - accuracy: 0.9667 - val_loss: 0.2340 - val_accuracy: 0.9153\n",
      "Epoch 7/20\n",
      "31/31 [==============================] - 1s 39ms/step - loss: 0.1105 - accuracy: 0.9616 - val_loss: 0.2395 - val_accuracy: 0.9113\n",
      "Epoch 8/20\n",
      "31/31 [==============================] - 1s 40ms/step - loss: 0.1061 - accuracy: 0.9626 - val_loss: 0.3085 - val_accuracy: 0.9032\n",
      "Epoch 9/20\n",
      "31/31 [==============================] - ETA: 0s - loss: 0.0770 - accuracy: 0.9667INFO:tensorflow:Assets written to: model-009.model/assets\n",
      "31/31 [==============================] - 2s 62ms/step - loss: 0.0770 - accuracy: 0.9667 - val_loss: 0.2031 - val_accuracy: 0.9153\n",
      "Epoch 10/20\n",
      "31/31 [==============================] - 1s 40ms/step - loss: 0.0414 - accuracy: 0.9828 - val_loss: 0.2167 - val_accuracy: 0.9234\n",
      "Epoch 11/20\n",
      "31/31 [==============================] - 1s 40ms/step - loss: 0.0353 - accuracy: 0.9848 - val_loss: 0.2863 - val_accuracy: 0.9234\n",
      "Epoch 12/20\n",
      "31/31 [==============================] - ETA: 0s - loss: 0.0407 - accuracy: 0.9919INFO:tensorflow:Assets written to: model-012.model/assets\n",
      "31/31 [==============================] - 2s 62ms/step - loss: 0.0407 - accuracy: 0.9919 - val_loss: 0.1905 - val_accuracy: 0.9234\n",
      "Epoch 13/20\n",
      "31/31 [==============================] - 1s 40ms/step - loss: 0.0219 - accuracy: 0.9939 - val_loss: 0.2161 - val_accuracy: 0.9355\n",
      "Epoch 14/20\n",
      "31/31 [==============================] - 1s 40ms/step - loss: 0.0196 - accuracy: 0.9939 - val_loss: 0.2356 - val_accuracy: 0.9315\n",
      "Epoch 15/20\n",
      "31/31 [==============================] - 1s 40ms/step - loss: 0.0248 - accuracy: 0.9889 - val_loss: 0.2090 - val_accuracy: 0.9435\n",
      "Epoch 16/20\n",
      "31/31 [==============================] - 1s 41ms/step - loss: 0.0229 - accuracy: 0.9960 - val_loss: 0.3104 - val_accuracy: 0.9153\n",
      "Epoch 17/20\n",
      "31/31 [==============================] - 1s 40ms/step - loss: 0.0451 - accuracy: 0.9808 - val_loss: 0.2169 - val_accuracy: 0.9476\n",
      "Epoch 18/20\n",
      "31/31 [==============================] - 1s 40ms/step - loss: 0.0446 - accuracy: 0.9879 - val_loss: 0.1925 - val_accuracy: 0.9556\n",
      "Epoch 19/20\n",
      "31/31 [==============================] - 1s 40ms/step - loss: 0.0184 - accuracy: 0.9970 - val_loss: 0.2793 - val_accuracy: 0.9395\n",
      "Epoch 20/20\n",
      "31/31 [==============================] - 1s 40ms/step - loss: 0.0129 - accuracy: 0.9960 - val_loss: 0.2091 - val_accuracy: 0.9395\n"
     ]
    }
   ],
   "source": [
    "checkpoint = ModelCheckpoint('model-{epoch:03d}.model',monitor='val_loss',verbose=0,save_best_only=True,mode='auto')\n",
    "history=model.fit(train_data,train_target,epochs=20,callbacks=[checkpoint],validation_split=0.2)"
   ]
  },
  {
   "cell_type": "code",
   "execution_count": 10,
   "metadata": {
    "colab": {
     "base_uri": "https://localhost:8080/",
     "height": 279
    },
    "id": "m_glIc3UwfA4",
    "outputId": "40897514-a350-4705-c713-208921c1b257"
   },
   "outputs": [
    {
     "data": {
      "image/png": "[encoded data removed]",
      "text/plain": [
       "<Figure size 432x288 with 1 Axes>"
      ]
     },
     "metadata": {
      "needs_background": "light",
      "tags": []
     },
     "output_type": "display_data"
    }
   ],
   "source": [
    "from matplotlib import pyplot as plt\n",
    "\n",
    "plt.plot(history.history['loss'],'r',label='training loss')\n",
    "plt.plot(history.history['val_loss'],label='validation loss')\n",
    "plt.xlabel('# epochs')\n",
    "plt.ylabel('loss')\n",
    "plt.legend()\n",
    "plt.show()"
   ]
  },
  {
   "cell_type": "code",
   "execution_count": 11,
   "metadata": {
    "colab": {
     "base_uri": "https://localhost:8080/",
     "height": 279
    },
    "id": "ls_yWhizwfA7",
    "outputId": "38ce9e7e-5928-4fff-d8ce-f1a53117eca1"
   },
   "outputs": [
    {
     "data": {
      "image/png": "[encoded data removed]",
      "text/plain": [
       "<Figure size 432x288 with 1 Axes>"
      ]
     },
     "metadata": {
      "needs_background": "light",
      "tags": []
     },
     "output_type": "display_data"
    }
   ],
   "source": [
    "plt.plot(history.history['accuracy'],'r',label='training accuracy')\n",
    "plt.plot(history.history['val_accuracy'],label='validation accuracy')\n",
    "plt.xlabel('# epochs')\n",
    "plt.ylabel('loss')\n",
    "plt.legend()\n",
    "plt.show()"
   ]
  },
  {
   "cell_type": "code",
   "execution_count": 12,
   "metadata": {
    "colab": {
     "base_uri": "https://localhost:8080/"
    },
    "id": "C3PsfybPwfA9",
    "outputId": "de00b756-4f8e-4637-a43e-3268c4cd681a"
   },
   "outputs": [
    {
     "name": "stdout",
     "output_type": "stream",
     "text": [
      "5/5 [==============================] - 0s 29ms/step - loss: 0.1252 - accuracy: 0.9348\n",
      "[0.12516379356384277, 0.9347826242446899]\n"
     ]
    }
   ],
   "source": [
    "print(model.evaluate(test_data,test_target))"
   ]
  },
  {
   "cell_type": "code",
   "execution_count": 13,
   "metadata": {
    "colab": {
     "base_uri": "https://localhost:8080/",
     "height": 17
    },
    "id": "eW5nkJ1K3xyQ",
    "outputId": "a42d267c-4e66-440a-acf8-ab26f698a1d9"
   },
   "outputs": [
    {
     "data": {
      "application/javascript": [
       "\n",
       "    async function download(id, filename, size) {\n",
       "      if (!google.colab.kernel.accessAllowed) {\n",
       "        return;\n",
       "      }\n",
       "      const div = document.createElement('div');\n",
       "      const label = document.createElement('label');\n",
       "      label.textContent = `Downloading \"${filename}\": `;\n",
       "      div.appendChild(label);\n",
       "      const progress = document.createElement('progress');\n",
       "      progress.max = size;\n",
       "      div.appendChild(progress);\n",
       "      document.body.appendChild(div);\n",
       "\n",
       "      const buffers = [];\n",
       "      let downloaded = 0;\n",
       "\n",
       "      const channel = await google.colab.kernel.comms.open(id);\n",
       "      // Send a message to notify the kernel that we're ready.\n",
       "      channel.send({})\n",
       "\n",
       "      for await (const message of channel.messages) {\n",
       "        // Send a message to notify the kernel that we're ready.\n",
       "        channel.send({})\n",
       "        if (message.buffers) {\n",
       "          for (const buffer of message.buffers) {\n",
       "            buffers.push(buffer);\n",
       "            downloaded += buffer.byteLength;\n",
       "            progress.value = downloaded;\n",
       "          }\n",
       "        }\n",
       "      }\n",
       "      const blob = new Blob(buffers, {type: 'application/binary'});\n",
       "      const a = document.createElement('a');\n",
       "      a.href = window.URL.createObjectURL(blob);\n",
       "      a.download = filename;\n",
       "      div.appendChild(a);\n",
       "      a.click();\n",
       "      div.remove();\n",
       "    }\n",
       "  "
      ],
      "text/plain": [
       "<IPython.core.display.Javascript object>"
      ]
     },
     "metadata": {
      "tags": []
     },
     "output_type": "display_data"
    },
    {
     "data": {
      "application/javascript": [
       "download(\"download_aa159859-9d69-4c07-a686-abc6c44d2db9\", \"model-012.model\", 4096)"
      ],
      "text/plain": [
       "<IPython.core.display.Javascript object>"
      ]
     },
     "metadata": {
      "tags": []
     },
     "output_type": "display_data"
    }
   ],
   "source": [
    "from google.colab import files\n",
    "files.download('/content/model-012.model')"
   ]
  },
  {
   "cell_type": "code",
   "execution_count": null,
   "metadata": {
    "id": "tqGeaoU-5qNS"
   },
   "outputs": [],
   "source": []
  }
 ],
 "metadata": {
  "accelerator": "GPU",
  "colab": {
   "name": "2.0 training the CNN.ipynb",
   "provenance": []
  },
  "kernelspec": {
   "display_name": "Python 3",
   "language": "python",
   "name": "python3"
  },
  "language_info": {
   "codemirror_mode": {
    "name": "ipython",
    "version": 3
   },
   "file_extension": ".py",
   "mimetype": "text/x-python",
   "name": "python",
   "nbconvert_exporter": "python",
   "pygments_lexer": "ipython3",
   "version": "3.7.9"
  }
 },
 "nbformat": 4,
 "nbformat_minor": 1
}
